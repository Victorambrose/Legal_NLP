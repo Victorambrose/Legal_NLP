{
 "cells": [
  {
   "cell_type": "code",
   "execution_count": 2,
   "metadata": {},
   "outputs": [],
   "source": [
    "legal_abbr_dict = {'1A': 'First Amendment to the United States Constitution', '27A': 'Twenty-Seventh Amendment to the United States Constitution', 'A.': 'Atlantic Reporter', 'A.2d': 'Atlantic Reporter, 2nd Series', 'a/a/o': 'as assignee of', 'AAS': 'Acta Apostolicae Sedis', 'ABA': 'American Bar Association', 'AC': 'Appeal Cases', 'ACC': 'Association of Corporate Counsel', 'AD': 'South African Law Reports, Appellate Division', 'ad.': 'at the suit of', 'ads.': 'at the suit of', 'adsm.': 'at the suit of', 'adj.': 'adjoining', \"Aff'd\": 'affirmed', 'AG': 'Attorney General for England and Wales', 'A-G': 'Advocate general', 'Ala. Admin. Code': 'Alabama Administrative Code', 'Ala. Code': 'Code of Alabama 1975', 'Alaska Admin. Code': 'Alaska Administrative Code', 'Alaska Stat.': 'Alaska Statutes', 'All ER': 'All England Law Reports', 'All SA': 'All South African Law Reports', 'A.L.R.': 'American Law Reports', 'A.L.R.2d': 'American Law Reports, 2nd Series', 'A.L.R.3d': 'American Law Reports, 3rd Series', 'A.L.R.4th': 'American Law Reports, 4th Series', 'A.L.R.5th': 'American Law Reports, 5th Series', 'A.L.R.6th': 'American Law Reports, 6th Series', 'A.L.R. Fed.': 'American Law Reports, Federal', 'Am. Jur.': 'American Jurisprudence', 'Am. Jur. 2d.': 'American Jurisprudence, 2nd Series', 'Anor': 'Another', 'Anors': 'Others', 'Ap. const.': 'apostolic constitution', 'Ariz. Admin. Code': 'Arizona Administrative Code', 'Ariz. Admin. Reg.': 'Arizona Administrative Register', 'Ariz. Rev. Stat.': 'Arizona Revised Statutes', 'A.C.A': 'Arkansas Code Annotated', 'Art.': 'Article', 'Artt.': 'Articles', \"Ass'n\": 'Association', 'A.S.S.': 'Acta Sanctae Sedis', 'ATS': 'At the suit of', 'Atty': 'Attorney', 'B.': 'baron', 'B.A.P.': 'Bankruptcy Appellate Panel', 'BCLR': 'Butterworths Constitutional Law Reports (South Africa)', 'BFP': 'Bona fide purchaser', 'Bla.Com.': \"Blackstone's Commentaries on the Laws of England\", 'Bl. Com.': \"Blackstone's Commentaries on the Laws of England\", 'BLLR': 'Butterworths Labour Law Reports (South Africa)', 'b/o': 'on behalf of', 'o/b/o': 'on behalf of', 'BR': 'Bankruptcy', 'B/R': 'Bankruptcy', 'c.': 'chapter', 'cc.': 'chapters', 'CA': 'Class action or Court of Appeal', 'CB': 'Casebook', 'CBJ': 'California Bar journal', 'CC': 'Commerce Clause', 'CCEO': 'Codex Canonum Ecclesiarum Orientalium', 'CCH': 'Commerce Clearing House', 'C-C': 'Counterclaim', 'CE': 'Collateral estoppel', 'CD': 'Closing disclosure', 'CL': 'Common law', 'CNeg': 'Contributory negligence', 'CA #': 'Court of Appeals', 'CA Fed.': 'Court of Appeals for the Federal Circuit[2]', 'Cx': 'Constitution', 'Cx-C': 'Cross-claim', 'Cxl': 'Constitutional', 'Cal. Code': 'California Code', 'Cal. Code Reg.': 'California Code of Regulations', 'CCR': 'California Code of Regulations', 'Cert.': 'Certiorari', 'CIC': 'the Code of Canon Law', 'CIF': 'Coming into force', 'C.F.R.': 'Code of Federal Regulations', 'CFR': 'Code of Federal Regulations', 'CJ': 'Corpus Juris', 'CJEU': 'Court of Justice of the European Union', 'CJS': 'Corpus Juris Secundum', 'CLSA': 'Canon Law Society of America', 'Co. Lit. or Co. Litt.': 'Coke on Littleton', 'Co.': 'company', \"Comm'n\": 'commission', \"Comm'r\": 'commissioner', 'Cong. Rec.': 'Congressional Record', 'Cor.': 'corner', 'Corp.': 'Corporation', 'CRS': 'Congressional Research Service', 'Ct. Cl.': 'the United States Court of Federal Claims Reporter', 'C': 'Contract', 'Δ': 'Defendant', 'D': 'Defendant', 'DAC': 'Days After Contract', 'd/b/a': 'doing business as', 'Decr.': 'Decretum', \"Dep't\": 'department', 'DLR': 'Dominion Law Reports', 'DoCRA': 'Duty of Care Risk Analysis Standard', 'DWOP': 'dismissal for want of prosecution', 'ECHR': 'European Convention on Human Rights', 'ECtHR': 'European Court of Human Rights', 'EComHR': 'European Commission of Human Rights', 'ECJ': 'European Court of Justice', 'EGC': 'European General Court', 'ELR': 'European Law Reporter', 'ER': 'Employer', 'EE': 'Employee', 'Esq.': 'Esquire', 'et als.': 'and others', 'et seq.': 'and following', 'ex. p.': 'Ex parte', 'F.': 'Federal Reporter', 'F.2d': 'Federal Reporter, 2nd Series', 'F.3d': 'Federal Reporter, 3rd Series', \"F.App'x\": 'Federal Appendix', 'F.Cas.': 'Federal Cases 1789:1880', 'Fed. Reg.': 'Federal Register', 'FR': 'Federal Register', 'Fed. R. Bankr. P.': 'Federal Rules of Bankruptcy Procedure', 'Fed. R. Civ. P.': 'Federal Rules of Civil Procedure', 'FRCP': 'Federal Rules of Civil Procedure', 'Fed. R. Crim. P.': 'Federal Rules of Criminal Procedure', 'Fed. R. Evid.': 'Federal Rules of Evidence', 'FRE': 'Federal Rules of Evidence', 'f/k/a': 'formerly known as', 'F. Supp.': 'Federal Supplement', 'F. Supp. 2d': 'Federal Supplement, 2nd Series', 'f/t/a': 'failed to appear', 'GAL': 'Guardian ad litem', 'GATT': 'General Agreement on Tariffs and Trade', 'GC': 'General Counsel', 'GVR': 'Grant, Vacate, and Remand', 'NGO': 'Non Government Organization', \"Gov't\": 'government', 'HC': 'Hypothetical Client or High Court', 'HDC': 'Holder in due course', 'ICJ': 'International Court of Justice', 'Id.': 'the same', 'I.L.M.': 'International Legal Materials', 'ILJ': 'Industrial Law Journal', 'IRB': 'Internal Revenue Bulletin', 'ILRM': 'Irish Law Reports Monthly', 'IR': 'Irish Law Reports', 'IRC': 'Internal Revenue Code', 'ISLN': 'International Standard Lawyer Number', 'Inc.': 'Incorporated', 'Ins.': 'insurance', 'Instr.': 'Instructio, a kind of decree', 'In re': 'in the matter of', \"Int'l\": 'international', 'J.': 'Judge', 'JA': 'Appellate judge', 'JD': 'Juris Doctor', 'JDX': 'jurisdiction', 'JCD': 'Juris Canonici Doctor, Doctor of Canon Law', 'JCL': 'Juris Canonici Licentiatus, Licentiate of Canon Law', 'JOL': 'Judgments Online', 'JJ': 'Judges', 'JMOL': 'Judgment as a matter of law', 'JNOV': 'Judgment notwithstanding verdict', 'Jx': 'Jurisdiction', 'JU': 'disposed of by Judge', 'JUST.': 'Justice', 'KC': \"King's Counsel\", 'L/C': 'Letter of credit', 'L&T': 'Landlord & Tenant', 'L.Ed': 'Lawyers Edition', 'L.Ed.2d': 'Lawyer’s Edition 2d Series', 'LJ': 'Postnominals of a Lord or Lady Justice of Appeal', 'LJJ': 'Postnominals of Lords or Ladies Justice of Appeal', 'LL.B.': 'Bachelor of Laws', 'LLC': 'Limited liability company', 'LL.D.': 'Doctor of Law', 'LL.M.': 'Master of Laws', 'LP': 'Limited partnership', 'LLP': 'Limited liability partnership', 'LLLP': 'Limited liability limited partnership', 'LOI': 'Letter of Intent', 'Ltd.': 'Limited', 'MIL': 'Motion in limine', 'MLR': 'Modern Law Review', 'MOU': 'Memorandum of Understanding', 'M.P.': 'motu proprio', 'MPC': 'Model Penal Code', 'MR': 'Postnominals of the Master of the Rolls', 'MSJ': 'Motion for summary judgment', \"Nat'l\": 'national', 'NDA': 'Non-Disclosure Agreement', 'n/k/a': 'Now Known As', 'N.E.': 'Northeastern Reporter', 'N.E.2d': 'North Eastern Reporter, 2nd Series', 'No.': 'Number', 'N.W.': 'Northwestern Reporter', 'N.W.2d': 'North Western Reporter, 2nd Series', 'oao': 'on the application of', \"Opp'n\": 'opposition', 'O.R.C.': 'Ohio Revised Code', 'Org.': 'organization', 'Ors': 'Others', '¶ (Pilcrow)': 'Paragraph', 'Π (Greek letter Pi)': 'Plaintiff', 'P.': 'Pacific Reporter', 'P.2d': 'Pacific Reporter, 2nd Series', 'P.3d': 'Pacific Reporter, 3rd Series', 'p.': 'Page', 'pp.': 'Pages', 'PA': 'Professional association', 'PC': 'Professional corporation', 'PH': 'Prentice Hall Weekly Legal Service', 'PL': 'Public Law', 'PLLC': 'Professional limited liability company', 'POA': 'power of attorney', 'Prae.': 'Praenotanda', 'Pty': 'proprietary company', 'Pub.L.': 'Public Law', 'QC': \"Queen's Counsel\", 'QDRO': 'Qualified Domestic Relations Order', 'R': 'Rex or Regina', 'RCW': 'Revised Code of Washington', 'R.E.': 'Real Estate', 'R/E': 'Real Estate', 'Re': 'In re', \"Reh'g\": 'Rehearing', 'Relv.': 'Relevant', 'Rescr.': 'Rescriptum', 'Resp.': 'Responsum', \"Resp't\": 'Respondent', \"Rev'd\": 'reversed', 'Rev. Proc.': 'Revenue Procedure', 'Rev. Rul.': 'Revenue Ruling', 'RJ': 'Restorative justice', 'R.O.I': 'Release of Information', 'Canon law': 'Regulæ Juris of Boniface VIII', 'Common law': 'Recurring Judgement', 'R.I.A.A.': 'Reports of International Arbitral Awards', '§': 'Section', 's.': 'Section','§§': 'Sections', 'ss.':'Sections', 'SA': 'South African Law Reports', 'SACR': 'South African Criminal Law Reports', 'SALLR': 'South African Labour Law Reports', 'SC': 'Senior Counsel', 'sc.': 'scilicet', 'sd': 'said', 'S.C.R.': 'Supreme Court Reports', 'SCR': 'Supreme Court Reports', 'S. Ct.': 'Supreme Court Reporter', 'S.E.': 'Southeastern Reporter', 'S.E.2d': 'South Eastern Reporter, 2nd Series', 'SCOTUS': 'Supreme Court of the United States', 'SI': 'Statutory instruments', 'S/J': 'Summary judgment', 'SMJ': 'Subject-matter jurisdiction', 'So.': 'Southern Reporter', 'So. 2d': 'Southern Reporter, 2nd Series', 'SOL': 'Statute of Limitations', 'SOR': 'Statutory Orders and Regulations', 'S.R.R.': 'Tribunal of the Roman Rota', 'SRRDec': 'Sacræ Rotæ Romanæ Decisiones[5]', 'Stat.': 'U.S. Statutes-at-Large', 'S.W.': 'Southwestern Reporter', 'S.W.2d': 'South Western Reporter, 2nd Series', 'S.W.3d': 'South Western Reporter, 3rd Series', 'T.C.': 'United States Tax Court Reports', 'T.D.': 'Treasury Decision', '™': 'Trademark', 'TM': 'Trademark', 'UD': 'Unnatural Death', 'UCC': 'Uniform Commercial Code', 'UCMJ': 'Uniform Code of Military Justice', 'UKPC': 'Privy Council of the United Kingdom', 'UKSC': 'Supreme Court of the United Kingdom', 'UPC': 'Uniform Probate Code', 'USC': 'United States Code', 'USCA': 'United States Code Annotated', 'USCCAN': 'United States Code Congressional and Administrative News', 'USCS': 'United States Code Service', 'UST': 'United States Treaties and Other International Agreements', 'v.': 'versus', 'V-C': 'Postnominals of the Vice-Chancellor of the High Court', 'VC': 'Postnominals of the Vice-Chancellor of the High Court', 'VOP': 'Violation of probation', 'WAC': 'Washington Administrative Code', 'WTO': 'World Trade Organization', 'W. Va. Code': 'West Virginia Code', 'WOP': 'without prejudice', 'w/o/p': 'without prejudice', 'XFD': 'Examination for Discovery', 'XN': 'Examination in Chief', 'XXN': 'Cross-examination', 'B.U. L.': 'Boston University Law Review', 'Buff. L.': 'Buffalo Law Review', 'Cal. L.': 'California Law Review', 'Case W. Res. L.': 'Case Western Reserve Law Review', 'Colum. L.': 'Columbia Law Review', 'Cornell L.': 'Cornell Law Review', 'Duke L.J.': 'Duke Law Journal', 'Fordham L.': 'Fordham Law Review', 'Geo. L.J.': 'Georgetown Law Journal', 'Geo. Wash. L.': 'George Washington Law Review', 'Harv. L.': 'Harvard Law Review', 'How. L.J.': 'Howard Law Journal', 'Mich. L.': 'Michigan Law Review', 'Minn. L.': 'Minnesota Law Review', 'N.Y.U. L.': 'New York University Law Review', 'Ohio St. L.J.': 'Ohio State Law Journal', 'Rutgers L.': 'Rutgers Law Review', 'Seton Hall L.': 'Seton Hall Law Review', 'Stan. L.': 'Stanford Law Review', 'Sup. Ct.': 'Supreme Court Review', 'Temp. L.': 'Temple Law Review', 'Tex. L.': 'Texas Law Review', 'UCLA L.': 'UCLA Law Review', 'U. Chi. L.': 'University of Chicago Law Review', 'U. Pa. L.': 'University of Pennsylvania Law Review', 'Vand. L.': 'Vanderbilt Law Review', 'Va. L.': 'Virginia Law Review', 'Wash. U. L.Q.': 'Washington University Law Quarterly', 'Wis. L.': 'Wisconsin Law Review', 'Yale L.J.': 'Yale Law Journal', 'A.A.': 'Atlantic Reporter', 'ADA': 'Americans with Disabilities Act', 'ALR': 'American Law Reports', 'ALR2d': 'American Law Reports, 2d Series', 'AmJur': 'American Jurisprudence', 'AmJur2d': 'American Jurisprudence 2d', 'AmJurPOF': 'American Jurisprudence Proof of Facts', 'B.R.': 'or B.R.W. Bankruptcy Reporter', 'Cal.': 'Rptr. California Reporter (West’s)', 'CrL': 'Criminal Law Reporter', 'FamLRep.': 'Family Law Reporter (BNA)', 'Fed.Cl.': 'Federal Claims Reporter', 'Fed.R.Evid.Serv.': 'Federal Rules of Evidence Service', 'FEP': 'Cases Fair Employment Practice Cases (BNA)', 'F.R.': 'Federal Register', 'FRD': 'Federal Rules Decisions', 'F.S.': 'or F.Supp. Federal Supplement', 'H.': 'or Haw. Hawai‘i Reports', 'H.A.': 'or Haw.App. Hawai‘i Appellate Reports', 'HBJ': 'Hawai‘i Bar Journal', 'HBN': 'Hawai‘i Bar News', 'HLR': 'Hawai‘i Legal Reporter', 'HRS': 'Hawai‘i Revised Statutes', 'HRSA': 'Hawai‘i Revised Statutes Annotated', 'Last': 'Updated: January', 'Abbreviation': 'Title Class No. or Call No. Range', 'I': '& N Dec. Immigration and Nationality Decisions', 'LRRM': 'Labor Relations Reference Manual (BNA)', 'Moore’s': 'Moore’s Federal Practice', 'N.Y.S.': 'New York Supplement', 'P.L.': 'Public Laws (in U.S. Statutes-at-Large)', 'PUR': 'Public Utilities Reports', 'S.Ct.': 'Supreme Court Reporter', 'T.I.A.S.': 'United States Treaties and other International Act Series', 'UHLR': 'or U.Hawai‘i L.Rev. University of Hawai‘i Law Review', 'ULA': 'Uniform Laws Annotated', 'U.S.C.': 'United States Code', 'U.S.C.A.': 'United States Code Annotated', 'USLW': 'United States Law Week', 'U.S.D.C.': 'Haw Reports of the U.S. District Court of Hawai‘i', 'U.S.T.': 'United States Treaties and Other International Agreements', 'USTC': 'U.S. Tax Cases (CCH)'}"
   ]
  },
  {
   "cell_type": "code",
   "execution_count": null,
   "metadata": {},
   "outputs": [
    {
     "name": "stderr",
     "output_type": "stream",
     "text": [
      "/Library/Frameworks/Python.framework/Versions/3.12/lib/python3.12/site-packages/tqdm/auto.py:21: TqdmWarning: IProgress not found. Please update jupyter and ipywidgets. See https://ipywidgets.readthedocs.io/en/stable/user_install.html\n",
      "  from .autonotebook import tqdm as notebook_tqdm\n",
      "Generating train split: 100%|██████████| 5000/5000 [00:00<00:00, 15949.77 examples/s]\n",
      "Generating test split: 100%|██████████| 1400/1400 [00:00<00:00, 13129.85 examples/s]\n",
      "Generating validation split: 100%|██████████| 1400/1400 [00:00<00:00, 15210.10 examples/s]\n"
     ]
    },
    {
     "name": "stdout",
     "output_type": "stream",
     "text": [
      "Preprocessing SCOTUS with STF-IDF (semantic filtering)...\n"
     ]
    },
    {
     "name": "stderr",
     "output_type": "stream",
     "text": [
      "Map:   0%|          | 16/5000 [01:37<5:50:01,  4.21s/ examples]"
     ]
    }
   ],
   "source": [
    "import re\n",
    "import torch\n",
    "import numpy as np\n",
    "from datasets import load_dataset\n",
    "from tqdm import tqdm\n",
    "from transformers import AutoTokenizer, AutoModel\n",
    "from sklearn.metrics.pairwise import cosine_similarity\n",
    "\n",
    "# --------- SETUP --------- #\n",
    "DEVICE = \"cuda\" if torch.cuda.is_available() else \"cpu\"\n",
    "MODEL_NAME = \"nlpaueb/legal-bert-base-uncased\"\n",
    "TOP_K = 3\n",
    "\n",
    "tokenizer = AutoTokenizer.from_pretrained(MODEL_NAME)\n",
    "model = AutoModel.from_pretrained(MODEL_NAME).to(DEVICE)\n",
    "\n",
    "# --------- STEP 1: SCOTUS Dataset --------- #\n",
    "dataset = load_dataset(\"lex_glue\", \"scotus\")\n",
    "\n",
    "# --------- STEP 2: Utility Functions --------- #\n",
    "def expand_abbreviations(text):\n",
    "    for abbr, full in legal_abbr_dict.items():\n",
    "        text = text.replace(abbr, full)\n",
    "    return text\n",
    "\n",
    "def clean_metadata(text):\n",
    "    text = re.sub(r\"(SUPREME COURT OF THE UNITED STATES)\", \"\", text, flags=re.IGNORECASE)\n",
    "    text = re.sub(r\"Decided\\s+[^\\\\n]+\", \"\", text)\n",
    "    return re.sub(r\"\\n{2,}\", \"\\n\", text.strip())\n",
    "\n",
    "def split_paragraphs(text):\n",
    "    return [p.strip() for p in text.split('\\n') if len(p.strip()) > 30]\n",
    "\n",
    "def mean_pooling(model_output, attention_mask):\n",
    "    token_embeddings = model_output[0]  # First element is last hidden state\n",
    "    input_mask_expanded = attention_mask.unsqueeze(-1).expand(token_embeddings.size()).float()\n",
    "    return (token_embeddings * input_mask_expanded).sum(1) / input_mask_expanded.sum(1)\n",
    "\n",
    "def embed_text(texts):\n",
    "    inputs = tokenizer(texts, return_tensors='pt', padding=True, truncation=True, max_length=512)\n",
    "    inputs = {k: v.to(DEVICE) for k, v in inputs.items()}\n",
    "    with torch.no_grad():\n",
    "        outputs = model(**inputs)\n",
    "    embeddings = mean_pooling(outputs, inputs['attention_mask'])\n",
    "    return embeddings.cpu().numpy()\n",
    "\n",
    "# --------- STEP 3: STF-IDF Based Preprocessing --------- #\n",
    "def preprocess_example(example):\n",
    "    label = example['label']\n",
    "    text = clean_metadata(expand_abbreviations(example['text']))\n",
    "    paragraphs = split_paragraphs(text)\n",
    "\n",
    "    if not paragraphs:\n",
    "        return {\"text\": \"\", \"label\": label}\n",
    "\n",
    "    # Embed entire document as reference (semantic context)\n",
    "    doc_embedding = embed_text([\" \".join(paragraphs)])\n",
    "\n",
    "    # Embed each paragraph\n",
    "    para_embeddings = embed_text(paragraphs)\n",
    "\n",
    "    # Compute cosine similarity for each paragraph to the document embedding\n",
    "    sims = cosine_similarity(para_embeddings, doc_embedding).flatten()\n",
    "\n",
    "    # Select top-k paragraphs\n",
    "    top_idx = np.argsort(sims)[-TOP_K:][::-1]\n",
    "    selected = [paragraphs[i] for i in top_idx]\n",
    "\n",
    "    return {\n",
    "        \"text\": \" \".join(selected),\n",
    "        \"label\": label\n",
    "    }\n",
    "\n",
    "# --------- STEP 4: Apply to Dataset --------- #\n",
    "print(\"Preprocessing SCOTUS with STF-IDF (semantic filtering)...\")\n",
    "processed_dataset = dataset.map(preprocess_example)"
   ]
  },
  {
   "cell_type": "code",
   "execution_count": null,
   "metadata": {},
   "outputs": [],
   "source": [
    "processed_dataset.push_to_hub(\"victorambrose11/preprocessing_v2\")"
   ]
  },
  {
   "cell_type": "code",
   "execution_count": null,
   "metadata": {},
   "outputs": [],
   "source": [
    "import numpy as np\n",
    "from datasets import load_dataset\n",
    "from sklearn.svm import LinearSVC\n",
    "from sklearn.pipeline import Pipeline\n",
    "from sklearn.feature_extraction.text import TfidfVectorizer\n",
    "from sklearn.metrics import classification_report\n",
    "from tqdm import tqdm\n",
    "\n",
    "# -------- STEP 1: Load SCOTUS Raw Dataset -------- #\n",
    "print(\"Loading raw SCOTUS...\")\n",
    "raw_dataset = load_dataset(\"lex_glue\", \"scotus\")\n",
    "\n",
    "X_train_raw = [ex[\"text\"] for ex in raw_dataset[\"train\"]]\n",
    "y_train = [ex[\"label\"] for ex in raw_dataset[\"train\"]]\n",
    "\n",
    "X_test_raw = [ex[\"text\"] for ex in raw_dataset[\"test\"]]\n",
    "y_test = [ex[\"label\"] for ex in raw_dataset[\"test\"]]\n",
    "\n",
    "\n",
    "print(\"Loading preprocessed SCOTUS...\")\n",
    "X_train_proc = [ex[\"text\"] for ex in processed_dataset[\"train\"]]\n",
    "X_test_proc = [ex[\"text\"] for ex in processed_dataset[\"test\"]]\n",
    "\n",
    "# -------- STEP 3: Build SVM Pipeline -------- #\n",
    "svm_pipeline = Pipeline([\n",
    "    ('tfidf', TfidfVectorizer(max_features=20000, stop_words='english')),\n",
    "    ('clf', LinearSVC())\n",
    "])\n",
    "\n",
    "# -------- STEP 4: Train and Evaluate on RAW -------- #\n",
    "print(\"\\n🔍 Training on RAW SCOTUS text...\")\n",
    "svm_pipeline.fit(X_train_raw, y_train)\n",
    "y_pred_raw = svm_pipeline.predict(X_test_raw)\n",
    "print(\"\\n📊 Evaluation (RAW SCOTUS):\")\n",
    "print(classification_report(y_test, y_pred_raw))\n",
    "\n",
    "# -------- STEP 5: Train and Evaluate on Preprocessed -------- #\n",
    "print(\"\\n🔍 Training on PREPROCESSED SCOTUS text...\")\n",
    "svm_pipeline.fit(X_train_proc, y_train)\n",
    "y_pred_proc = svm_pipeline.predict(X_test_proc)\n",
    "print(\"\\n📊 Evaluation (Preprocessed SCOTUS):\")\n",
    "print(classification_report(y_test, y_pred_proc))\n"
   ]
  },
  {
   "cell_type": "code",
   "execution_count": null,
   "metadata": {},
   "outputs": [],
   "source": []
  }
 ],
 "metadata": {
  "kernelspec": {
   "display_name": "Python 3",
   "language": "python",
   "name": "python3"
  },
  "language_info": {
   "codemirror_mode": {
    "name": "ipython",
    "version": 3
   },
   "file_extension": ".py",
   "mimetype": "text/x-python",
   "name": "python",
   "nbconvert_exporter": "python",
   "pygments_lexer": "ipython3",
   "version": "3.12.9"
  }
 },
 "nbformat": 4,
 "nbformat_minor": 2
}
