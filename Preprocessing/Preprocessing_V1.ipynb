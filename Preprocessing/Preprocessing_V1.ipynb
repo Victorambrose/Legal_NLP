{
 "cells": [
  {
   "cell_type": "code",
   "execution_count": 1,
   "metadata": {},
   "outputs": [
    {
     "name": "stderr",
     "output_type": "stream",
     "text": [
      "/Library/Frameworks/Python.framework/Versions/3.12/lib/python3.12/site-packages/tqdm/auto.py:21: TqdmWarning: IProgress not found. Please update jupyter and ipywidgets. See https://ipywidgets.readthedocs.io/en/stable/user_install.html\n",
      "  from .autonotebook import tqdm as notebook_tqdm\n"
     ]
    },
    {
     "data": {
      "text/plain": [
       "\"329 U.S. 29\\n67 S.Ct. 1\\n91 L.Ed. 22\\nCHAMPLIN REFINING COv.UNITED STATES et al.\\nNo. 21.\\nArgued Oct. 18, 21, 1946.\\nDecided Nov. 18, 1946.\\nRehearing Denied Dec. 16, 1946.\\n\\nSee 329 U.S. 831, 67 S.Ct. 363.\\nAppeal from the District Court of the United States for the Western District of Oklahoma.\\nMessrs.Dan Moody, of Austin, Tex., and Harry O. Glasser, of Enid, Okla., for appellant.\\nMr. Edward Dumbauld, of Washington, D.C., for appel-\\n[Argument of Counsel from page 30 intentionally omitted]\\nlees. Mr. Justice JACKSON delivered the opinion of the Court.\\n\\n\\n1\\nThe Interstate Commerce Commission, acting under § 19a of the Interstate Commerce Act,1 ordered the appellant to furnish certain inventories, schedules, maps and charts of its pipe line property.2 Champlin's objections that the Act does not authorize the order, or if it be construed to do so is unconstitutional, were overruled by the Commission and again by the District Court which dismissed the company's suit for an injunction.3 These questions of law are brought here by appeal. Judicial Code, § 238, 28 U.S.C. § 345, 28 U.S.C.A. § 345.\\n\\n\\n2\\nChamplin owns and operates a line of six-inch pipe 516 miles in length lying in five states. Originating at Champlin's Enid, Oklahoma refinery, it crosses Kansas, Nebraska, a part of South Dakota, and ends in Iowa. It is used only to convey the company's own refinery products to its own terminal stations at Hutchinson, Kansas; Superior, Nebraska, and Rock Rapids, Iowa, at each of which the line connects with storage facilities from which deliveries are made.\\n\\n\\n3\\nThe statute, so far as relevant, says that it shall apply 'to common carriers engaged in,' 'transportation of oil or other commodity' by pipe line from one state to another. It provides also, that 'common carrier' includes 'all pipe-line companies.'4 This language on its face would seem to cover the appellant's operation.\\n\\n\\n4\\nChamplin contends, however, that the 'transportation' mentioned in the Act does not refer to the carriage of one's own goods. The District Court has found that Champlin is the sole owner of the products transported through its pipe line; it has never transported, offered to transport, or been asked to transport any products belonging to any other company or person; its pipe line does not connect with any other pipe line but only with storage tanks at the three terminal points; there are no facilities for putting any petroleum product into the line other than at the Enid refinery; delivery of the products at the three terminal points is made from Champlin's storage tanks by means of truck racks or railroad tank car racks and is not made directly from the pipe line in any instance; no tariffs stating transportation charges have been filed with the Interstate Commerce Commission or with any State commission or regulatory body.\\n\\n\\n5\\nBecause of these facts the appellant suggests that the language and holding of this Court concerning the Uncle Sam Oil Company in The Pipe Line Cases, 234 U.S. 548, 34 S.Ct. 956, 58 L.Ed. 1459, approved in Valvoline Oil Company v. United States, 308 U.S. 141, 60 S.Ct. 160, 84 L.Ed. 151, govern this case. The Uncle Sam Company operation is described as 'simply drawing oil from its own wells across a state line to its own refinery, for its own use, and that is all, * * *.' The Pipe Line Cases, 234 U.S. 548, 562, 34 S.Ct. 956, 959, 58 L.Ed. 1459. The Court considered this was not 'transportation' within the meaning of the Act.\\n\\n\\n6\\nBut we think it would expand the actual holding of that case to apply its conclusion to Champlin. The controlling fact under the statute is transporting commodities from state to state by pipe line. Admittedly Champlin is not a common carrier in the sense of the common law carrier for hire. However, the Act does not stop at this but goes on to say that its use of the term 'common carrier' is to include all pipe line companies—a meaningless addition if it thereby included only what the term without more always had included. While Champlin technically is transporting its own oil, manufacturing processes have been completed; the oil is not being moved for Champlin's own use. These interstate facilities are operated to put its finished products in the market in interstate commerce at the greatest economic advantage.\\n\\n\\n7\\nExamination of Champlin's pricing methods supports the view that appellant is engaged in transportation even though the products are still its own when moved. The District Court found that price at the terminal points includes f.o.b. price at the Enid refinery and an additional sum called a differential. The differential is the through railroad freight rate from Enid to the final destination (usually the purchaser's place of business) less the carrying charges from the pipe line terminal to final destination. The District Court found, however, that competitive and other conditions 'sometimes cause departures from the prices arrived at in accordance with the formula above described.' Appellant states that as to some deliveries 'rail rates were used merely as a basis for calculating a delivered price, not as a charge for transportation.' Even so, and even though departures from the calculated differential are substantial and frequent, we think this practice points up a significant distinction from the Uncle Sam case.\\n\\n\\n8\\nWe hold that Champlin's operation is transportation within the meaning of the Act and that the statute supports the Commission's order to furnish information.\\n\\n\\n9\\nAppellant further contends that, as so construed, the Act exceeds the commerce power of Congress and violates the due process clause of the Fifth Amendment because it is argued that this interpretation converts a private pipe line into a public utility and requires a private carrier to become a common carrier. But our conclusion rests on no such basis and affords no such implication. The power of Congress to regulate interstate commerce is not dependent on the technical common carrier status but is quite as extensive over a private carrier. This power his yet been invoked only to the extent of requiring Champlin to furnish certain information as to facilities being used in interstate marketing of its products. The commerce power is adequate to support this requirement whether appellant be considered a private carrier or a common carrier.\\n\\n\\n10\\nThe contention that the statute as so construed violates the due process clause by imposing upon a private carrier the obligations of a conventional common carrier for hire is too premature and hypothetical to warrant consideration on this record. The appellant in its entire period of operation has never been asked to carry the products of another and may never be. So far, the Commission has made no order which changes the appellant's obligations to any other company or person. If it does, it will be timely to consider concrete requirements and their specific effects on appellant. At present, appellant is asked only to provide information about a subject within the power possessed by Congress and delegated to the Commission, and that cannot be considered a taking of property even if it arouses appellant's premonitions.\\n\\n\\n11\\nWe hold that the order before us is authorized by statute and that in this respect the statute is within the commerce power and does not offend the Fifth Amendment.\\n\\n\\n12\\nAffirmed.\\n\\n\\n13\\nMr. Justice REED, with whom Mr. Justice FRANKFURTER, Mr. Justice DOUGLAS and Mr. Justice BURTON join dissenting.\\n\\n\\n14\\nThis appeal brings into question the extent to which the Interstate Commerce Act covers pipe lines by virtue of the provisions of § 1 and § 19a.1 Acting under the authority of these sections, the Interstate Commerce Commission called upon the appellant, Champlin Refining Company, for reports deemed appropriate for it to make, if it is a common carrier under the act. The appellant challenged the Commission's order on the ground that it was not covered by the sections.\\n\\n\\n15\\nChamplin owns a pipe line for the carriage of oil or other similar commodity from its refinery in Oklahoma to various distributing points in other states. It carries no commodities except its own produced in its own refinery and delivered at the ends of the pipe line into its own storage or holding tanks for sale to its customers. It also is sole owner of the stock of the Cimarron Valley Pipe Line Company, admittedly an intrastate common carrier, that supplies the Champlin refinery with its crude oil. The Commission's orders for valuation reports do not treat Champlin and Cimarron as a unitary operation. The Commission, at this bar, disclaimed expressly any intention to test the subjection of Champlin's distributing pipe line to Commission power by Champlin's ownership of the Cimarron stock. As the Court treats the situation as though Champlin's distributing pipe line, between the refinery and the sale tanks only, were involved, we accept for the purpose of this dissent the Commission's view of the test to be applied to Champlin.\\n\\n\\n16\\nSection 1 of the act applies its provisions to 'common carriers engaged in—* * * the transportation of oil' or similar commodities. In The Pipe Line Cases, 234 U.S. 548, 34 S.Ct. 956, 58 L.Ed. 1459, and Valvoline Oil Co. v. United States, 308 U.S. 141, 60 S.Ct. 160, 84 L.Ed. 151, this Court interpreted the term 'common carrier' to include all interstate pipe line companies that are engaged, within the purview of the act, in the transportation of oil. In these cases, pipe line companies that carried only their own oil, although all or a large part of it was purchased from producers prior to its carriage in the pipe lines, were held common carriers within the meaning and purpose of the act, though not common carriers in the technical sense of holding one's self out to carry indiscriminately all oil offered, because the act's evident purpose was to bring within its scope all pipe lines that would carry all oil offered 'if only the offerers would sell' at the carrier's price. In the Valvoline case, this interpretation of the 1906 Act, 34 Stat. 584, was found to have been carried into the act, as amended in 1920, 41 Stat. 474, despite certain changes in language. 308 U.S. at page 145, 60 S.Ct. at page 162, 84 L.Ed. 151.\\n\\n\\n17\\nIt is to be noted, however, that the Pipe Line and Valvoline cases did not bring within the scope of the Interstate Commerce Act all pipe lines that carried oil interstate. If the companies were common carriers in substance, the act made them so in form. Those pipe lines held covered by the act in The Pipe Line Cases and Valvoline were found common carriers in substance because they purchased and carried all oil offered. The Interstate Commerce Act continually has required such carriers to be engaged in the transportation of oil or other commodities. In The Pipe Line Cases, a company, Uncle Sam Oil Company, though a pipe line carrying oil, was held beyond the act's reach because not engaged in the transportation of oil as a common carrier within the purpose of the act.\\n\\n\\n18\\n'When, as in this case, a company is simply drawing oil from its own wells across a state line to its own refinery, for its own use, and that is all, we do not regard it as falling within the description of the act, the transportation being merely an incident to use at the end.' 234 U.S. at page 562, 34 S.Ct. at page 959, 58 L.Ed. 1459.\\n\\n\\n19\\nThere has been no change bearing on this question in the applicable acts since The Pipe Line Cases. As a matter of statutory construction, we see no reason to change from this Court's long standing interpretation. If Congress desires to undertake regulation of the transportation of an interstate carrier, in substance a private carrier, it understands the method of approach. 49 U.S.C. § 304(a)(3), 49 U.S.C.A § 304(a)(3). There is no pertinent legislative history to support so broad an interpretation of pipe line legislation. The evil sought to be remedied was the mastery of oil through control of the gathering facilities.2 If a line does not carry oil of others, it is not transporting within the contemplation of the act.\\n\\n\\n20\\nIn the Uncle Sam case it was said that the transportation of oil from well to refinery was 'merely an incident to use at the end.' We see no difference between the use contemplated by the Uncle Sam Company and this company. Each carries its own oil for the same ultimate purpose—to reach the market.\\n\\n\\n21\\nNor can we see any significant distinction from the Uncle Sam case in the practice of Champlin to use frequently the freight rate from Enid to the final destination as a measure of the addition to Enid refinery, f.o.b. price that it will charge at its distributing tanks. This practice is departed from to meet competition. Naturally some transportation cost must be added to the refinery price for deliveries elsewhere. How much it is or how it is calculated does not seem to us to bear upon the question of whether Champlin is a 'common carrier engaged in—* * * the transportation of oil' within the scope of the act.\\n\\n\\n22\\nWe would have a very different case than the one before us if Congress had provided that all owners of pipe lines carrying oil in interstate commerce should give appropriate information to the Interstate Commerce Commission. This is not what § 19a does. It requires reports only from 'every common carrier subject to the provisions' of the act. When an enterprise is 'subject to the provisions' of the act is defined by § 1(1)(b) and § 1(3). Therefore, it is not § 19a but § 1 that must be construed. The definition of § 1 flows not only into § 19a but also into various other sections. Once an enterprise is found to be included in § 1, the Interstate Commerce Act subjects it to § 19a and other provisions dealing with common carriers 'subject to' the act. Thus, to give several instances, it must provide equal and reasonable transportation to all comers, (§ 1(4—6)); and it must file a schedule of rates (§ 6(1). If, therefore, any doubt is felt about the applicability of some of these requirements, the doubts are properly to be taken into account in determining the scope of § 1. The range of servitudes to which this pipe line is subjected by including it in § 1 bears vitally upon whether such a construction should be given to § 1.\\n\\n\\n23\\nFor the reasons detailed above, we do not think that Champlin is covered by the act and we would reverse the decree of the District Court.\\n\\n\\n\\n1\\n '* * * the commission shall, * * * investigate, ascertain, and report the value of all the property owned or used by every common carrier subject to the provisions of this act. * * * The commission shall make an inventory which shall list the property of every common carrier subject to the provisions of this act in detail, and show the value thereof as hereinafter provided, and shall classify the physical property, as nearly as practicable, in conformity with classification of expenditures for road and equipment, as prescribed by the Interstate Commerce Commission.' 37 Stat. 701, 49 U.S.C. § 19a, 49 U.S.C.A. § 19a.\\n\\n\\n2\\n On May 15, 1941, the Interstate Commerce Commission, by letter addressed to the president of the Champlin Refining Company, requested that the company prepare and file with the Commission 'a complete inventory of the pipe line property of the Champlin Refining Company, except land, showing the quantities, units, classes, kinds, and condition thereof.' The Commission enclosed with its letter copies of its Valuation Orders Nos. 26 and 27, with which the inventory was to comply. The Champlin company did not respond to the request in a manner satisfactory to the Commission, and on June 12, 1944, the Commission made the order of which the company here complains. It directed the company to comply with the provisions of Valuation Orders Nos. 26 and 27 within 90 days of the service of the order.\\n\\n\\n3\\n In response to the Commission's letter of May 15, 1941, the Champlin company filed with the Commission information and charts which it believed would satisfy the Commission's request. The Commission, however, returned that report to the company, because in it the company had not recognized that it was a statutory common carrier and had not compiled the report from that viewpoint. The company then requested a hearing before the Commission to determine its status. On December 14, 1942, and on reargument, June 12, 1944, the Commission decided that appellant is a common carrier subject to the provisions of the Act. After the Commission had issued its supplementary order of June 12, 1944, appellant petitioned the district court for an injunction against the order. In accordance with §§ 46 and 47 of Title 28 U.S.C., 28 U.S.C.A. §§ 46, 47, the district judge convened a three judge court, which heard the case and dismissed appellant's petition.\\n\\n\\n4\\n § 1. '(1) (That) the provisions of this act shall apply to common carriers engaged in—* * *\\n'(b) The transportation of oil or other commodity, * * * by pipe line, * * * from one State * * * to any other State * * *.\\n'(3) (a) The term 'common carrier' as used in this act shall include all pipeline companies; * * * express companies; sleeping-car companies; and all persons, natural or artificial, engaged in such transportation or transmission as aforesaid as common carriers for hire.' 41 Stat. 474, as amended, 48 Stat. 1102, 49 U.S.C. § 1, 49 U.S.C.A. § 1. The last words of § 1(3)(a), 'engaged in such transportation or transmission as aforesaid as common carriers for hire', do 'not affect the generality of the first clause as to pipe line companies.' Valvoline Oil Co. v. United States, 308 U.S. 141, 146, 60 S.Ct. 160, 162, 84 L.Ed. 151.\\n\\n\\n1\\n 49 U.S.C. § 1, 49 U.S.C.A. § 1:\\n'(1) * * * The provisions of this chapter shall apply to common carriers engaged in—\\n'(b) The transportation of oil or other commodity, except water and except natural or artificial gas, by pipe line, or partly by pipe line and partly by railroad or by water;\\n'(3) (a) The term 'common carrier' as used in this chapter shall include all pipe-line companies; * * * express companies; sleeping-car companies; and all persons, natural or artificial, engaged in such transportation as aforesaid as common carriers for hire. * * *'\\n49 U.S.C. § 19a, 49 U.S.C.A. § 19a:\\n'* * * The Commission shall * * * investigate, ascertain, and report the value of all the property owned or used by every common carrier subject to the provisions of this chapter. * * * The Commission shall * * * make an inventory which shall list the property of every common carrier subject to the provisions of this chapter in detail, and show the value thereof as hereinafter provided, and shall classify the physical property, as nearly as practicable, in conformity with the classification of expenditures for road and equipment, as prescribed by the Interstate Commission.'\\n\\n\\n2\\n 234 U.S. at pages 558, 559, 34 S.Ct. at page 958, 58 L.Ed. 1459: 'By the before-mentioned and subordinate lines the Standard Oil Company had made itself master of the only practicable oil transportation between the oil fields east of California and the Atlantic Ocean, and carried much the greater part of the oil between those points.'\\n\\n\\n\""
      ]
     },
     "execution_count": 1,
     "metadata": {},
     "output_type": "execute_result"
    }
   ],
   "source": [
    "import datasets \n",
    "dataset = datasets.load_dataset(\"coastalcph/lex_glue\", \"scotus\")\n",
    "dataset['train']['text'][0]"
   ]
  },
  {
   "cell_type": "code",
   "execution_count": 2,
   "metadata": {},
   "outputs": [],
   "source": [
    "legal_abbr_dict = {'1A': 'First Amendment to the United States Constitution', '27A': 'Twenty-Seventh Amendment to the United States Constitution', 'A.': 'Atlantic Reporter', 'A.2d': 'Atlantic Reporter, 2nd Series', 'a/a/o': 'as assignee of', 'AAS': 'Acta Apostolicae Sedis', 'ABA': 'American Bar Association', 'AC': 'Appeal Cases', 'ACC': 'Association of Corporate Counsel', 'AD': 'South African Law Reports, Appellate Division', 'ad.': 'at the suit of', 'ads.': 'at the suit of', 'adsm.': 'at the suit of', 'adj.': 'adjoining', \"Aff'd\": 'affirmed', 'AG': 'Attorney General for England and Wales', 'A-G': 'Advocate general', 'Ala. Admin. Code': 'Alabama Administrative Code', 'Ala. Code': 'Code of Alabama 1975', 'Alaska Admin. Code': 'Alaska Administrative Code', 'Alaska Stat.': 'Alaska Statutes', 'All ER': 'All England Law Reports', 'All SA': 'All South African Law Reports', 'A.L.R.': 'American Law Reports', 'A.L.R.2d': 'American Law Reports, 2nd Series', 'A.L.R.3d': 'American Law Reports, 3rd Series', 'A.L.R.4th': 'American Law Reports, 4th Series', 'A.L.R.5th': 'American Law Reports, 5th Series', 'A.L.R.6th': 'American Law Reports, 6th Series', 'A.L.R. Fed.': 'American Law Reports, Federal', 'Am. Jur.': 'American Jurisprudence', 'Am. Jur. 2d.': 'American Jurisprudence, 2nd Series', 'Anor': 'Another', 'Anors': 'Others', 'Ap. const.': 'apostolic constitution', 'Ariz. Admin. Code': 'Arizona Administrative Code', 'Ariz. Admin. Reg.': 'Arizona Administrative Register', 'Ariz. Rev. Stat.': 'Arizona Revised Statutes', 'A.C.A': 'Arkansas Code Annotated', 'Art.': 'Article', 'Artt.': 'Articles', \"Ass'n\": 'Association', 'A.S.S.': 'Acta Sanctae Sedis', 'ATS': 'At the suit of', 'Atty': 'Attorney', 'B.': 'baron', 'B.A.P.': 'Bankruptcy Appellate Panel', 'BCLR': 'Butterworths Constitutional Law Reports (South Africa)', 'BFP': 'Bona fide purchaser', 'Bla.Com.': \"Blackstone's Commentaries on the Laws of England\", 'Bl. Com.': \"Blackstone's Commentaries on the Laws of England\", 'BLLR': 'Butterworths Labour Law Reports (South Africa)', 'b/o': 'on behalf of', 'o/b/o': 'on behalf of', 'BR': 'Bankruptcy', 'B/R': 'Bankruptcy', 'c.': 'chapter', 'cc.': 'chapters', 'CA': 'Class action or Court of Appeal', 'CB': 'Casebook', 'CBJ': 'California Bar journal', 'CC': 'Commerce Clause', 'CCEO': 'Codex Canonum Ecclesiarum Orientalium', 'CCH': 'Commerce Clearing House', 'C-C': 'Counterclaim', 'CE': 'Collateral estoppel', 'CD': 'Closing disclosure', 'CL': 'Common law', 'CNeg': 'Contributory negligence', 'CA #': 'Court of Appeals', 'CA Fed.': 'Court of Appeals for the Federal Circuit[2]', 'Cx': 'Constitution', 'Cx-C': 'Cross-claim', 'Cxl': 'Constitutional', 'Cal. Code': 'California Code', 'Cal. Code Reg.': 'California Code of Regulations', 'CCR': 'California Code of Regulations', 'Cert.': 'Certiorari', 'CIC': 'the Code of Canon Law', 'CIF': 'Coming into force', 'C.F.R.': 'Code of Federal Regulations', 'CFR': 'Code of Federal Regulations', 'CJ': 'Corpus Juris', 'CJEU': 'Court of Justice of the European Union', 'CJS': 'Corpus Juris Secundum', 'CLSA': 'Canon Law Society of America', 'Co. Lit. or Co. Litt.': 'Coke on Littleton', 'Co.': 'company', \"Comm'n\": 'commission', \"Comm'r\": 'commissioner', 'Cong. Rec.': 'Congressional Record', 'Cor.': 'corner', 'Corp.': 'Corporation', 'CRS': 'Congressional Research Service', 'Ct. Cl.': 'the United States Court of Federal Claims Reporter', 'C': 'Contract', 'Δ': 'Defendant', 'D': 'Defendant', 'DAC': 'Days After Contract', 'd/b/a': 'doing business as', 'Decr.': 'Decretum', \"Dep't\": 'department', 'DLR': 'Dominion Law Reports', 'DoCRA': 'Duty of Care Risk Analysis Standard', 'DWOP': 'dismissal for want of prosecution', 'ECHR': 'European Convention on Human Rights', 'ECtHR': 'European Court of Human Rights', 'EComHR': 'European Commission of Human Rights', 'ECJ': 'European Court of Justice', 'EGC': 'European General Court', 'ELR': 'European Law Reporter', 'ER': 'Employer', 'EE': 'Employee', 'Esq.': 'Esquire', 'et als.': 'and others', 'et seq.': 'and following', 'ex. p.': 'Ex parte', 'F.': 'Federal Reporter', 'F.2d': 'Federal Reporter, 2nd Series', 'F.3d': 'Federal Reporter, 3rd Series', \"F.App'x\": 'Federal Appendix', 'F.Cas.': 'Federal Cases 1789:1880', 'Fed. Reg.': 'Federal Register', 'FR': 'Federal Register', 'Fed. R. Bankr. P.': 'Federal Rules of Bankruptcy Procedure', 'Fed. R. Civ. P.': 'Federal Rules of Civil Procedure', 'FRCP': 'Federal Rules of Civil Procedure', 'Fed. R. Crim. P.': 'Federal Rules of Criminal Procedure', 'Fed. R. Evid.': 'Federal Rules of Evidence', 'FRE': 'Federal Rules of Evidence', 'f/k/a': 'formerly known as', 'F. Supp.': 'Federal Supplement', 'F. Supp. 2d': 'Federal Supplement, 2nd Series', 'f/t/a': 'failed to appear', 'GAL': 'Guardian ad litem', 'GATT': 'General Agreement on Tariffs and Trade', 'GC': 'General Counsel', 'GVR': 'Grant, Vacate, and Remand', 'NGO': 'Non Government Organization', \"Gov't\": 'government', 'HC': 'Hypothetical Client or High Court', 'HDC': 'Holder in due course', 'ICJ': 'International Court of Justice', 'Id.': 'the same', 'I.L.M.': 'International Legal Materials', 'ILJ': 'Industrial Law Journal', 'IRB': 'Internal Revenue Bulletin', 'ILRM': 'Irish Law Reports Monthly', 'IR': 'Irish Law Reports', 'IRC': 'Internal Revenue Code', 'ISLN': 'International Standard Lawyer Number', 'Inc.': 'Incorporated', 'Ins.': 'insurance', 'Instr.': 'Instructio, a kind of decree', 'In re': 'in the matter of', \"Int'l\": 'international', 'J.': 'Judge', 'JA': 'Appellate judge', 'JD': 'Juris Doctor', 'JDX': 'jurisdiction', 'JCD': 'Juris Canonici Doctor, Doctor of Canon Law', 'JCL': 'Juris Canonici Licentiatus, Licentiate of Canon Law', 'JOL': 'Judgments Online', 'JJ': 'Judges', 'JMOL': 'Judgment as a matter of law', 'JNOV': 'Judgment notwithstanding verdict', 'Jx': 'Jurisdiction', 'JU': 'disposed of by Judge', 'JUST.': 'Justice', 'KC': \"King's Counsel\", 'L/C': 'Letter of credit', 'L&T': 'Landlord & Tenant', 'L.Ed': 'Lawyers Edition', 'L.Ed.2d': 'Lawyer’s Edition 2d Series', 'LJ': 'Postnominals of a Lord or Lady Justice of Appeal', 'LJJ': 'Postnominals of Lords or Ladies Justice of Appeal', 'LL.B.': 'Bachelor of Laws', 'LLC': 'Limited liability company', 'LL.D.': 'Doctor of Law', 'LL.M.': 'Master of Laws', 'LP': 'Limited partnership', 'LLP': 'Limited liability partnership', 'LLLP': 'Limited liability limited partnership', 'LOI': 'Letter of Intent', 'Ltd.': 'Limited', 'MIL': 'Motion in limine', 'MLR': 'Modern Law Review', 'MOU': 'Memorandum of Understanding', 'M.P.': 'motu proprio', 'MPC': 'Model Penal Code', 'MR': 'Postnominals of the Master of the Rolls', 'MSJ': 'Motion for summary judgment', \"Nat'l\": 'national', 'NDA': 'Non-Disclosure Agreement', 'n/k/a': 'Now Known As', 'N.E.': 'Northeastern Reporter', 'N.E.2d': 'North Eastern Reporter, 2nd Series', 'No.': 'Number', 'N.W.': 'Northwestern Reporter', 'N.W.2d': 'North Western Reporter, 2nd Series', 'oao': 'on the application of', \"Opp'n\": 'opposition', 'O.R.C.': 'Ohio Revised Code', 'Org.': 'organization', 'Ors': 'Others', '¶ (Pilcrow)': 'Paragraph', 'Π (Greek letter Pi)': 'Plaintiff', 'P.': 'Pacific Reporter', 'P.2d': 'Pacific Reporter, 2nd Series', 'P.3d': 'Pacific Reporter, 3rd Series', 'p.': 'Page', 'pp.': 'Pages', 'PA': 'Professional association', 'PC': 'Professional corporation', 'PH': 'Prentice Hall Weekly Legal Service', 'PL': 'Public Law', 'PLLC': 'Professional limited liability company', 'POA': 'power of attorney', 'Prae.': 'Praenotanda', 'Pty': 'proprietary company', 'Pub.L.': 'Public Law', 'QC': \"Queen's Counsel\", 'QDRO': 'Qualified Domestic Relations Order', 'R': 'Rex or Regina', 'RCW': 'Revised Code of Washington', 'R.E.': 'Real Estate', 'R/E': 'Real Estate', 'Re': 'In re', \"Reh'g\": 'Rehearing', 'Relv.': 'Relevant', 'Rescr.': 'Rescriptum', 'Resp.': 'Responsum', \"Resp't\": 'Respondent', \"Rev'd\": 'reversed', 'Rev. Proc.': 'Revenue Procedure', 'Rev. Rul.': 'Revenue Ruling', 'RJ': 'Restorative justice', 'R.O.I': 'Release of Information', 'Canon law': 'Regulæ Juris of Boniface VIII', 'Common law': 'Recurring Judgement', 'R.I.A.A.': 'Reports of International Arbitral Awards', '§': 'Section', 's.': 'Section','§§': 'Sections', 'ss.':'Sections', 'SA': 'South African Law Reports', 'SACR': 'South African Criminal Law Reports', 'SALLR': 'South African Labour Law Reports', 'SC': 'Senior Counsel', 'sc.': 'scilicet', 'sd': 'said', 'S.C.R.': 'Supreme Court Reports', 'SCR': 'Supreme Court Reports', 'S. Ct.': 'Supreme Court Reporter', 'S.E.': 'Southeastern Reporter', 'S.E.2d': 'South Eastern Reporter, 2nd Series', 'SCOTUS': 'Supreme Court of the United States', 'SI': 'Statutory instruments', 'S/J': 'Summary judgment', 'SMJ': 'Subject-matter jurisdiction', 'So.': 'Southern Reporter', 'So. 2d': 'Southern Reporter, 2nd Series', 'SOL': 'Statute of Limitations', 'SOR': 'Statutory Orders and Regulations', 'S.R.R.': 'Tribunal of the Roman Rota', 'SRRDec': 'Sacræ Rotæ Romanæ Decisiones[5]', 'Stat.': 'U.S. Statutes-at-Large', 'S.W.': 'Southwestern Reporter', 'S.W.2d': 'South Western Reporter, 2nd Series', 'S.W.3d': 'South Western Reporter, 3rd Series', 'T.C.': 'United States Tax Court Reports', 'T.D.': 'Treasury Decision', '™': 'Trademark', 'TM': 'Trademark', 'UD': 'Unnatural Death', 'UCC': 'Uniform Commercial Code', 'UCMJ': 'Uniform Code of Military Justice', 'UKPC': 'Privy Council of the United Kingdom', 'UKSC': 'Supreme Court of the United Kingdom', 'UPC': 'Uniform Probate Code', 'USC': 'United States Code', 'USCA': 'United States Code Annotated', 'USCCAN': 'United States Code Congressional and Administrative News', 'USCS': 'United States Code Service', 'UST': 'United States Treaties and Other International Agreements', 'v.': 'versus', 'V-C': 'Postnominals of the Vice-Chancellor of the High Court', 'VC': 'Postnominals of the Vice-Chancellor of the High Court', 'VOP': 'Violation of probation', 'WAC': 'Washington Administrative Code', 'WTO': 'World Trade Organization', 'W. Va. Code': 'West Virginia Code', 'WOP': 'without prejudice', 'w/o/p': 'without prejudice', 'XFD': 'Examination for Discovery', 'XN': 'Examination in Chief', 'XXN': 'Cross-examination', 'B.U. L.': 'Boston University Law Review', 'Buff. L.': 'Buffalo Law Review', 'Cal. L.': 'California Law Review', 'Case W. Res. L.': 'Case Western Reserve Law Review', 'Colum. L.': 'Columbia Law Review', 'Cornell L.': 'Cornell Law Review', 'Duke L.J.': 'Duke Law Journal', 'Fordham L.': 'Fordham Law Review', 'Geo. L.J.': 'Georgetown Law Journal', 'Geo. Wash. L.': 'George Washington Law Review', 'Harv. L.': 'Harvard Law Review', 'How. L.J.': 'Howard Law Journal', 'Mich. L.': 'Michigan Law Review', 'Minn. L.': 'Minnesota Law Review', 'N.Y.U. L.': 'New York University Law Review', 'Ohio St. L.J.': 'Ohio State Law Journal', 'Rutgers L.': 'Rutgers Law Review', 'Seton Hall L.': 'Seton Hall Law Review', 'Stan. L.': 'Stanford Law Review', 'Sup. Ct.': 'Supreme Court Review', 'Temp. L.': 'Temple Law Review', 'Tex. L.': 'Texas Law Review', 'UCLA L.': 'UCLA Law Review', 'U. Chi. L.': 'University of Chicago Law Review', 'U. Pa. L.': 'University of Pennsylvania Law Review', 'Vand. L.': 'Vanderbilt Law Review', 'Va. L.': 'Virginia Law Review', 'Wash. U. L.Q.': 'Washington University Law Quarterly', 'Wis. L.': 'Wisconsin Law Review', 'Yale L.J.': 'Yale Law Journal', 'A.A.': 'Atlantic Reporter', 'ADA': 'Americans with Disabilities Act', 'ALR': 'American Law Reports', 'ALR2d': 'American Law Reports, 2d Series', 'AmJur': 'American Jurisprudence', 'AmJur2d': 'American Jurisprudence 2d', 'AmJurPOF': 'American Jurisprudence Proof of Facts', 'B.R.': 'or B.R.W. Bankruptcy Reporter', 'Cal.': 'Rptr. California Reporter (West’s)', 'CrL': 'Criminal Law Reporter', 'FamLRep.': 'Family Law Reporter (BNA)', 'Fed.Cl.': 'Federal Claims Reporter', 'Fed.R.Evid.Serv.': 'Federal Rules of Evidence Service', 'FEP': 'Cases Fair Employment Practice Cases (BNA)', 'F.R.': 'Federal Register', 'FRD': 'Federal Rules Decisions', 'F.S.': 'or F.Supp. Federal Supplement', 'H.': 'or Haw. Hawai‘i Reports', 'H.A.': 'or Haw.App. Hawai‘i Appellate Reports', 'HBJ': 'Hawai‘i Bar Journal', 'HBN': 'Hawai‘i Bar News', 'HLR': 'Hawai‘i Legal Reporter', 'HRS': 'Hawai‘i Revised Statutes', 'HRSA': 'Hawai‘i Revised Statutes Annotated', 'Last': 'Updated: January', 'Abbreviation': 'Title Class No. or Call No. Range', 'I': '& N Dec. Immigration and Nationality Decisions', 'LRRM': 'Labor Relations Reference Manual (BNA)', 'Moore’s': 'Moore’s Federal Practice', 'N.Y.S.': 'New York Supplement', 'P.L.': 'Public Laws (in U.S. Statutes-at-Large)', 'PUR': 'Public Utilities Reports', 'S.Ct.': 'Supreme Court Reporter', 'T.I.A.S.': 'United States Treaties and other International Act Series', 'UHLR': 'or U.Hawai‘i L.Rev. University of Hawai‘i Law Review', 'ULA': 'Uniform Laws Annotated', 'U.S.C.': 'United States Code', 'U.S.C.A.': 'United States Code Annotated', 'USLW': 'United States Law Week', 'U.S.D.C.': 'Haw Reports of the U.S. District Court of Hawai‘i', 'U.S.T.': 'United States Treaties and Other International Agreements', 'USTC': 'U.S. Tax Cases (CCH)'}"
   ]
  },
  {
   "cell_type": "code",
   "execution_count": 3,
   "metadata": {},
   "outputs": [],
   "source": [
    "import spacy\n",
    "nlp = spacy.load(\"en_core_web_sm\")\n"
   ]
  },
  {
   "cell_type": "code",
   "execution_count": 4,
   "metadata": {},
   "outputs": [
    {
     "name": "stdout",
     "output_type": "stream",
     "text": [
      "Fitting per-class TF-IDF...\n"
     ]
    },
    {
     "name": "stderr",
     "output_type": "stream",
     "text": [
      "100%|██████████| 5000/5000 [22:35:29<00:00, 16.27s/it]     \n"
     ]
    },
    {
     "name": "stdout",
     "output_type": "stream",
     "text": [
      "Preprocessing SCOTUS with NER+POS and TF-IDCRF...\n"
     ]
    },
    {
     "name": "stderr",
     "output_type": "stream",
     "text": [
      "Map: 100%|██████████| 5000/5000 [14:10:10<00:00, 10.20s/ examples]     \n",
      "Map: 100%|██████████| 1400/1400 [2:21:50<00:00,  6.08s/ examples]    \n",
      "Map: 100%|██████████| 1400/1400 [36:44<00:00,  1.57s/ examples] \n"
     ]
    }
   ],
   "source": [
    "import re\n",
    "import spacy\n",
    "import numpy as np\n",
    "from datasets import load_dataset\n",
    "from sklearn.feature_extraction.text import TfidfVectorizer\n",
    "from tqdm import tqdm\n",
    "\n",
    "TOP_K_PARAGRAPHS = 3\n",
    "\n",
    "nlp = spacy.load(\"en_core_web_sm\", disable=[\"parser\", \"lemmatizer\"])\n",
    "\n",
    "\n",
    "\n",
    "# ----- STEP 2: Abbreviation Expansion ----- #\n",
    "def expand_abbreviations(text):\n",
    "    for abbr, full in legal_abbr_dict.items():\n",
    "        text = text.replace(abbr, full)\n",
    "    return text\n",
    "\n",
    "# ----- STEP 3: Clean Metadata ----- #\n",
    "def clean_metadata(text):\n",
    "    text = re.sub(r\"(SUPREME COURT OF THE UNITED STATES)\", \"\", text, flags=re.IGNORECASE)\n",
    "    text = re.sub(r\"Decided\\s+[^\\\\n]+\", \"\", text)\n",
    "    return re.sub(r\"\\n{2,}\", \"\\n\", text.strip())\n",
    "\n",
    "# ----- STEP 4: NER + POS Filtering (Remove boilerplate) ----- #\n",
    "def is_informative(paragraph):\n",
    "    doc = nlp(paragraph)\n",
    "    noun_count = sum(1 for token in doc if token.pos_ == \"NOUN\")\n",
    "    ent_count = len(doc.ents)\n",
    "    return noun_count > 3 or ent_count > 1\n",
    "\n",
    "def filter_paragraphs(text):\n",
    "    paragraphs = [p.strip() for p in text.split('\\n') if len(p.strip()) > 30]\n",
    "    return [p for p in paragraphs if is_informative(p)]\n",
    "\n",
    "# ----- STEP 5: Compute Per-Class TF-IDF Scores (TF-IDCRF Approx) ----- #\n",
    "print(\"Fitting per-class TF-IDF...\")\n",
    "class_paragraphs = {}\n",
    "\n",
    "# Collect paragraphs by class\n",
    "for ex in tqdm(dataset[\"train\"]):\n",
    "    label = ex[\"label\"]\n",
    "    text = expand_abbreviations(clean_metadata(ex[\"text\"]))\n",
    "    paras = filter_paragraphs(text)\n",
    "    class_paragraphs.setdefault(label, []).extend(paras)\n",
    "\n",
    "# Build per-class vectorizers\n",
    "class_vectorizers = {\n",
    "    label: TfidfVectorizer(max_features=10000, stop_words=\"english\").fit(paras)\n",
    "    for label, paras in class_paragraphs.items()\n",
    "}\n",
    "\n",
    "# ----- STEP 6: Preprocess Each Example ----- #\n",
    "def preprocess_example(example):\n",
    "    label = example['label']\n",
    "    text = expand_abbreviations(clean_metadata(example['text']))\n",
    "    paragraphs = filter_paragraphs(text)\n",
    "    \n",
    "    if not paragraphs:\n",
    "        return {\"text\": \"\", \"label\": label}\n",
    "\n",
    "    vectorizer = class_vectorizers[label]\n",
    "    tfidf_matrix = vectorizer.transform(paragraphs)\n",
    "    scores = np.asarray(tfidf_matrix.sum(axis=1)).flatten()\n",
    "    top_idx = np.argsort(scores)[-TOP_K_PARAGRAPHS:][::-1]\n",
    "    selected = [paragraphs[i] for i in top_idx]\n",
    "\n",
    "    return {\n",
    "        \"text\": \" \".join(selected),\n",
    "        \"label\": label\n",
    "    }\n",
    "\n",
    "# ----- STEP 7: Apply to Full Dataset ----- #\n",
    "print(\"Preprocessing SCOTUS with NER+POS and TF-IDCRF...\")\n",
    "processed_dataset = dataset.map(preprocess_example)\n"
   ]
  },
  {
   "cell_type": "code",
   "execution_count": 5,
   "metadata": {},
   "outputs": [
    {
     "name": "stderr",
     "output_type": "stream",
     "text": [
      "Creating parquet from Arrow format: 100%|██████████| 5/5 [00:00<00:00, 36.19ba/s]\n",
      "Uploading the dataset shards: 100%|██████████| 1/1 [00:03<00:00,  3.36s/it]\n",
      "Creating parquet from Arrow format: 100%|██████████| 2/2 [00:00<00:00, 38.76ba/s]\n",
      "Uploading the dataset shards: 100%|██████████| 1/1 [00:01<00:00,  1.85s/it]\n",
      "Creating parquet from Arrow format: 100%|██████████| 2/2 [00:00<00:00, 81.00ba/s]\n",
      "Uploading the dataset shards: 100%|██████████| 1/1 [00:01<00:00,  1.96s/it]\n"
     ]
    },
    {
     "data": {
      "text/plain": [
       "CommitInfo(commit_url='https://huggingface.co/datasets/victorambrose11/preprocessing_v1/commit/0f7715a28f06e99768f81af0d4710caf4ddd640e', commit_message='Upload dataset', commit_description='', oid='0f7715a28f06e99768f81af0d4710caf4ddd640e', pr_url=None, repo_url=RepoUrl('https://huggingface.co/datasets/victorambrose11/preprocessing_v1', endpoint='https://huggingface.co', repo_type='dataset', repo_id='victorambrose11/preprocessing_v1'), pr_revision=None, pr_num=None)"
      ]
     },
     "execution_count": 5,
     "metadata": {},
     "output_type": "execute_result"
    }
   ],
   "source": [
    "processed_dataset.push_to_hub(\"victorambrose11/preprocessing_v1\")"
   ]
  },
  {
   "cell_type": "code",
   "execution_count": 6,
   "metadata": {},
   "outputs": [
    {
     "name": "stdout",
     "output_type": "stream",
     "text": [
      "Loading raw SCOTUS...\n",
      "Loading preprocessed SCOTUS...\n",
      "\n",
      "🔍 Training on RAW SCOTUS text...\n",
      "\n",
      "📊 Evaluation (RAW SCOTUS):\n",
      "              precision    recall  f1-score   support\n",
      "\n",
      "           0       0.82      0.90      0.85       372\n",
      "           1       0.74      0.73      0.74       222\n",
      "           2       0.78      0.82      0.80        88\n",
      "           3       0.79      0.51      0.62        51\n",
      "           4       0.62      0.29      0.39        28\n",
      "           5       0.86      0.71      0.77        17\n",
      "           6       0.64      0.75      0.69        24\n",
      "           7       0.63      0.82      0.72       260\n",
      "           8       0.67      0.61      0.64       200\n",
      "           9       0.72      0.22      0.33        83\n",
      "          10       1.00      0.80      0.89        15\n",
      "          11       0.73      0.73      0.73        37\n",
      "          12       0.00      0.00      0.00         3\n",
      "\n",
      "    accuracy                           0.73      1400\n",
      "   macro avg       0.69      0.61      0.63      1400\n",
      "weighted avg       0.73      0.73      0.72      1400\n",
      "\n",
      "\n",
      "🔍 Training on PREPROCESSED SCOTUS text...\n"
     ]
    },
    {
     "name": "stderr",
     "output_type": "stream",
     "text": [
      "/Library/Frameworks/Python.framework/Versions/3.12/lib/python3.12/site-packages/sklearn/metrics/_classification.py:1565: UndefinedMetricWarning: Precision is ill-defined and being set to 0.0 in labels with no predicted samples. Use `zero_division` parameter to control this behavior.\n",
      "  _warn_prf(average, modifier, f\"{metric.capitalize()} is\", len(result))\n",
      "/Library/Frameworks/Python.framework/Versions/3.12/lib/python3.12/site-packages/sklearn/metrics/_classification.py:1565: UndefinedMetricWarning: Precision is ill-defined and being set to 0.0 in labels with no predicted samples. Use `zero_division` parameter to control this behavior.\n",
      "  _warn_prf(average, modifier, f\"{metric.capitalize()} is\", len(result))\n",
      "/Library/Frameworks/Python.framework/Versions/3.12/lib/python3.12/site-packages/sklearn/metrics/_classification.py:1565: UndefinedMetricWarning: Precision is ill-defined and being set to 0.0 in labels with no predicted samples. Use `zero_division` parameter to control this behavior.\n",
      "  _warn_prf(average, modifier, f\"{metric.capitalize()} is\", len(result))\n"
     ]
    },
    {
     "name": "stdout",
     "output_type": "stream",
     "text": [
      "\n",
      "📊 Evaluation (Preprocessed SCOTUS):\n",
      "              precision    recall  f1-score   support\n",
      "\n",
      "           0       0.79      0.84      0.81       372\n",
      "           1       0.69      0.63      0.66       222\n",
      "           2       0.88      0.82      0.85        88\n",
      "           3       0.70      0.45      0.55        51\n",
      "           4       0.75      0.32      0.45        28\n",
      "           5       1.00      0.41      0.58        17\n",
      "           6       0.58      0.58      0.58        24\n",
      "           7       0.60      0.77      0.67       260\n",
      "           8       0.50      0.60      0.54       200\n",
      "           9       0.85      0.27      0.40        83\n",
      "          10       1.00      0.47      0.64        15\n",
      "          11       0.73      0.73      0.73        37\n",
      "          12       0.00      0.00      0.00         3\n",
      "\n",
      "    accuracy                           0.68      1400\n",
      "   macro avg       0.70      0.53      0.57      1400\n",
      "weighted avg       0.70      0.68      0.67      1400\n",
      "\n"
     ]
    },
    {
     "name": "stderr",
     "output_type": "stream",
     "text": [
      "/Library/Frameworks/Python.framework/Versions/3.12/lib/python3.12/site-packages/sklearn/metrics/_classification.py:1565: UndefinedMetricWarning: Precision is ill-defined and being set to 0.0 in labels with no predicted samples. Use `zero_division` parameter to control this behavior.\n",
      "  _warn_prf(average, modifier, f\"{metric.capitalize()} is\", len(result))\n",
      "/Library/Frameworks/Python.framework/Versions/3.12/lib/python3.12/site-packages/sklearn/metrics/_classification.py:1565: UndefinedMetricWarning: Precision is ill-defined and being set to 0.0 in labels with no predicted samples. Use `zero_division` parameter to control this behavior.\n",
      "  _warn_prf(average, modifier, f\"{metric.capitalize()} is\", len(result))\n",
      "/Library/Frameworks/Python.framework/Versions/3.12/lib/python3.12/site-packages/sklearn/metrics/_classification.py:1565: UndefinedMetricWarning: Precision is ill-defined and being set to 0.0 in labels with no predicted samples. Use `zero_division` parameter to control this behavior.\n",
      "  _warn_prf(average, modifier, f\"{metric.capitalize()} is\", len(result))\n"
     ]
    }
   ],
   "source": [
    "import numpy as np\n",
    "from datasets import load_dataset\n",
    "from sklearn.svm import LinearSVC\n",
    "from sklearn.pipeline import Pipeline\n",
    "from sklearn.feature_extraction.text import TfidfVectorizer\n",
    "from sklearn.metrics import classification_report\n",
    "from tqdm import tqdm\n",
    "\n",
    "# -------- STEP 1: Load SCOTUS Raw Dataset -------- #\n",
    "print(\"Loading raw SCOTUS...\")\n",
    "raw_dataset = load_dataset(\"lex_glue\", \"scotus\")\n",
    "\n",
    "X_train_raw = [ex[\"text\"] for ex in raw_dataset[\"train\"]]\n",
    "y_train = [ex[\"label\"] for ex in raw_dataset[\"train\"]]\n",
    "\n",
    "X_test_raw = [ex[\"text\"] for ex in raw_dataset[\"test\"]]\n",
    "y_test = [ex[\"label\"] for ex in raw_dataset[\"test\"]]\n",
    "\n",
    "\n",
    "print(\"Loading preprocessed SCOTUS...\")\n",
    "X_train_proc = [ex[\"text\"] for ex in processed_dataset[\"train\"]]\n",
    "X_test_proc = [ex[\"text\"] for ex in processed_dataset[\"test\"]]\n",
    "\n",
    "# -------- STEP 3: Build SVM Pipeline -------- #\n",
    "svm_pipeline = Pipeline([\n",
    "    ('tfidf', TfidfVectorizer(max_features=20000, stop_words='english')),\n",
    "    ('clf', LinearSVC())\n",
    "])\n",
    "\n",
    "# -------- STEP 4: Train and Evaluate on RAW -------- #\n",
    "print(\"\\n🔍 Training on RAW SCOTUS text...\")\n",
    "svm_pipeline.fit(X_train_raw, y_train)\n",
    "y_pred_raw = svm_pipeline.predict(X_test_raw)\n",
    "print(\"\\n📊 Evaluation (RAW SCOTUS):\")\n",
    "print(classification_report(y_test, y_pred_raw))\n",
    "\n",
    "# -------- STEP 5: Train and Evaluate on Preprocessed -------- #\n",
    "print(\"\\n🔍 Training on PREPROCESSED SCOTUS text...\")\n",
    "svm_pipeline.fit(X_train_proc, y_train)\n",
    "y_pred_proc = svm_pipeline.predict(X_test_proc)\n",
    "print(\"\\n📊 Evaluation (Preprocessed SCOTUS):\")\n",
    "print(classification_report(y_test, y_pred_proc))\n"
   ]
  },
  {
   "cell_type": "code",
   "execution_count": null,
   "metadata": {},
   "outputs": [],
   "source": []
  }
 ],
 "metadata": {
  "kernelspec": {
   "display_name": "Python 3",
   "language": "python",
   "name": "python3"
  },
  "language_info": {
   "codemirror_mode": {
    "name": "ipython",
    "version": 3
   },
   "file_extension": ".py",
   "mimetype": "text/x-python",
   "name": "python",
   "nbconvert_exporter": "python",
   "pygments_lexer": "ipython3",
   "version": "3.12.9"
  }
 },
 "nbformat": 4,
 "nbformat_minor": 2
}
